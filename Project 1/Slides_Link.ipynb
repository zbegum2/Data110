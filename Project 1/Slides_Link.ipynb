{
  "nbformat": 4,
  "nbformat_minor": 0,
  "metadata": {
    "colab": {
      "provenance": [],
      "authorship_tag": "ABX9TyPblgWWqRlzwzVE3/0c9JJZ",
      "include_colab_link": true
    },
    "kernelspec": {
      "name": "python3",
      "display_name": "Python 3"
    },
    "language_info": {
      "name": "python"
    }
  },
  "cells": [
    {
      "cell_type": "markdown",
      "metadata": {
        "id": "view-in-github",
        "colab_type": "text"
      },
      "source": [
        "<a href=\"https://colab.research.google.com/github/zbegum2/Data110/blob/main/Slides_Link.ipynb\" target=\"_parent\"><img src=\"https://colab.research.google.com/assets/colab-badge.svg\" alt=\"Open In Colab\"/></a>"
      ]
    },
    {
      "cell_type": "code",
      "execution_count": 1,
      "metadata": {
        "colab": {
          "base_uri": "https://localhost:8080/"
        },
        "id": "4PIiKzUo2Kka",
        "outputId": "9fa277c2-d252-41a7-b418-78a34f978e95"
      },
      "outputs": [
        {
          "output_type": "stream",
          "name": "stdout",
          "text": [
            "[Project 1 Presentation](https://montgomerycollege0-my.sharepoint.com/:p:/r/personal/zbegum2_montgomerycollege_edu/Documents/Project%201.pptx?d=w7e1009a28f054d9d90d1658236e684fe&csf=1&web=1&e=Ge9S7z)\n"
          ]
        }
      ],
      "source": [
        "link = \"[Project 1 Presentation](https://montgomerycollege0-my.sharepoint.com/:p:/r/personal/zbegum2_montgomerycollege_edu/Documents/Project%201.pptx?d=w7e1009a28f054d9d90d1658236e684fe&csf=1&web=1&e=Ge9S7z)\"\n",
        "print(link)"
      ]
    }
  ]
}